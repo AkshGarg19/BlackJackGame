{
 "cells": [
  {
   "cell_type": "code",
   "execution_count": 27,
   "id": "37829b02",
   "metadata": {},
   "outputs": [],
   "source": [
    "import random as r\n",
    "\n",
    "list_cards = ['2', '3', '4', '5', '6', '7', '8', '9', '10', 'J', 'Q', 'K', 'A']\n",
    "deck = list_cards * 4\n",
    "values = {i: int(i) if i.isnumeric() else 10 for i in list_cards}\n",
    "values['A'] = 11"
   ]
  },
  {
   "cell_type": "code",
   "execution_count": 28,
   "id": "2a137a34",
   "metadata": {},
   "outputs": [],
   "source": [
    "def get_stack(num_decks = 1):\n",
    "    stack = deck * num_decks\n",
    "    r.shuffle(stack)\n",
    "    return stack"
   ]
  },
  {
   "cell_type": "code",
   "execution_count": 42,
   "id": "0162a77a",
   "metadata": {},
   "outputs": [
    {
     "name": "stdout",
     "output_type": "stream",
     "text": [
      "How many chps you want to bet on? 1000\n"
     ]
    }
   ],
   "source": [
    "stack = get_stack(1)\n",
    "bet = int(input(\"How many chps you want to bet on? \"))"
   ]
  },
  {
   "cell_type": "code",
   "execution_count": 43,
   "id": "b26113f1",
   "metadata": {},
   "outputs": [],
   "source": [
    "def calc_score(hand):\n",
    "    \"\"\"Return the score of a hand\n",
    "    \n",
    "    Aces can take value 11 or 1.\n",
    "    Numbered cards take the value of their numbers\n",
    "    Face cards are all valued 10\n",
    "    \"\"\"\n",
    "    score = 0\n",
    "    num_aces = hand.count('A')\n",
    "    for card in hand:\n",
    "        score += values[card]\n",
    "    while score > 21 and num_aces > 0:\n",
    "        score -= 10    # as we want A = 1 instead of A = 11 if score becomes greater than 21\n",
    "        num_aces -= 1\n",
    "    return score"
   ]
  },
  {
   "cell_type": "code",
   "execution_count": 45,
   "id": "c202d73b",
   "metadata": {},
   "outputs": [
    {
     "name": "stdout",
     "output_type": "stream",
     "text": [
      "Your cards: ['K', '10']\n",
      "Dealer's cards: ?, Q\n",
      "Your Score: 20\n"
     ]
    }
   ],
   "source": [
    "# Deal 2 cards each to the dealer and the player\n",
    "p_and_d_hand = stack[:4]\n",
    "cards_chosen = 4\n",
    "player_hand = p_and_d_hand[::2]\n",
    "dealer_hand = p_and_d_hand[1::2]\n",
    "print(f\"Your cards: {player_hand}\")\n",
    "print(f\"Dealer's cards: ?, {dealer_hand[1]}\")\n",
    "player_score = calc_score(player_hand)\n",
    "dealer_score = calc_score(dealer_hand)\n",
    "print(f\"Your Score: {player_score}\")\n",
    "dealer_busted = False\n",
    "player_busted = False\n",
    "player_busted1 = False\n",
    "player_busted2 = False\n",
    "blackjack = False\n",
    "split = False\n",
    "if player_score == 21:\n",
    "    print(\"Its a Black Jack!\")\n",
    "    blackjack = True\n",
    "    print(f\"You won {bet * 2} chips.\")\n",
    "if player_hand[0]==player_hand[1]:\n",
    "    r = input(\"Do you want to split? Please type [Y] for 'Yes' and [N] for 'No': \")\n",
    "    if r=='Y':\n",
    "        split = True\n",
    "        player_hand1 = [player_hand[0]]\n",
    "        player_hand2 = [player_hand[1]]\n",
    "        player_score1 = calc_score(player_hand1)\n",
    "        player_score2 = calc_score(player_hand2)\n",
    "        print(f\"Your first set: {player_hand1}\")\n",
    "        print(f\"Your first set score: {player_score1}\")\n",
    "        print(f\"Your second set: {player_hand2}\")\n",
    "        print(f\"Your second set score: {player_score2}\")\n",
    "        print(bet1)\n",
    "        print(bet2)\n",
    "    else:\n",
    "        pass"
   ]
  },
  {
   "cell_type": "code",
   "execution_count": 46,
   "id": "bea2496e",
   "metadata": {},
   "outputs": [],
   "source": [
    "# You may find an infinite `while` loop (with a `break` somewhere) to be useful here\n",
    "def splits(player_hand, player_score, bet, player_busted):\n",
    "    global cards_chosen\n",
    "    while not blackjack:\n",
    "        response = input(\"hit [H] stand [S] double downs [D]: \")\n",
    "        if response == 'S':\n",
    "            break\n",
    "        elif response == 'H':\n",
    "            new_card = stack[cards_chosen]\n",
    "            cards_chosen += 1\n",
    "            player_hand.append(new_card)\n",
    "            print(f\"Your cards: {player_hand}\")\n",
    "            player_score = calc_score(player_hand)\n",
    "            print(f\"Your Score: {player_score}\")\n",
    "            if player_score > 21:\n",
    "                player_busted = True\n",
    "                break\n",
    "        elif response == 'D':\n",
    "            bet *= 2\n",
    "            new_card = deck[cards_chosen]\n",
    "            cards_chosen += 1\n",
    "            player_hand.append(new_card)\n",
    "            print(f\"Your cards: {player_hand}\")\n",
    "            player_score = calc_score(player_hand)\n",
    "            print(f\"Your Score: {player_score}\")\n",
    "            if player_score > 21:\n",
    "                player_busted = True\n",
    "            break\n",
    "        else:\n",
    "            print(\"Please provide with a valid response\")\n",
    "    return player_score, bet, player_busted\n"
   ]
  },
  {
   "cell_type": "code",
   "execution_count": 47,
   "id": "c8832ec5",
   "metadata": {},
   "outputs": [
    {
     "name": "stdout",
     "output_type": "stream",
     "text": [
      "hit [H] stand [S] double downs [D]: S\n",
      "Dealer's cards: ['3', 'Q']\n",
      "Dealer's Score: 13\n"
     ]
    }
   ],
   "source": [
    "if split:\n",
    "    print('below results are for your first set \\n \\n \\n')\n",
    "    player_score1, bet1, player_busted1 = splits(player_hand1, player_score1, bet1, player_busted1)\n",
    "    print('\\n \\n \\n below results are for your second set \\n \\n \\n')\n",
    "    player_score2, bet2, player_busted2 = splits(player_hand2, player_score2, bet2, player_busted2)\n",
    "    print('\\n \\n \\n')\n",
    "elif not split:\n",
    "    player_score, bet, player_busted = splits(player_hand, player_score, bet, player_busted)\n",
    "    \n",
    "print(f\"Dealer's cards: {dealer_hand}\")\n",
    "print(f\"Dealer's Score: {dealer_score}\")\n",
    "    "
   ]
  },
  {
   "cell_type": "code",
   "execution_count": 48,
   "id": "b3f0b3fe",
   "metadata": {},
   "outputs": [
    {
     "name": "stdout",
     "output_type": "stream",
     "text": [
      "Dealer's cards: ['3', 'Q', '6']\n",
      "Dealer's Score: 19\n"
     ]
    }
   ],
   "source": [
    "while dealer_score < 17 and not blackjack:\n",
    "    new_d_card = deck[cards_chosen]\n",
    "    cards_chosen += 1\n",
    "    dealer_hand.append(new_d_card)\n",
    "    print(f\"Dealer's cards: {dealer_hand}\")\n",
    "    dealer_score = calc_score(dealer_hand)\n",
    "    print(f\"Dealer's Score: {dealer_score}\")\n",
    "    if dealer_score > 21:\n",
    "        dealer_busted = True\n"
   ]
  },
  {
   "cell_type": "code",
   "execution_count": 49,
   "id": "af263c67",
   "metadata": {},
   "outputs": [],
   "source": [
    "def results(player_hand, player_score, bet, player_busted):\n",
    "    if not blackjack:\n",
    "        print(f\"Your cards: {player_hand}\")\n",
    "        print(f\"Your Score: {player_score}\")\n",
    "        if player_busted:\n",
    "            print(f\"You got busted. GAME OVER, You lost {bet} chips!\")\n",
    "        elif dealer_busted and not player_busted:\n",
    "            print(f\"The dealer got busted, You won {bet} chips!\")\n",
    "        elif player_score > dealer_score:\n",
    "            print(f\"You won {bet} chips!\")\n",
    "        elif player_score < dealer_score:\n",
    "            print(f\"You lost {bet} chips!\")\n",
    "        else:\n",
    "            print(\"Its a draw!\")"
   ]
  },
  {
   "cell_type": "code",
   "execution_count": 50,
   "id": "747daed1",
   "metadata": {},
   "outputs": [
    {
     "name": "stdout",
     "output_type": "stream",
     "text": [
      "Your cards: ['K', '10']\n",
      "Your Score: 20\n",
      "You won 1000 chips!\n"
     ]
    }
   ],
   "source": [
    "if split:\n",
    "    print('below results are for your first set \\n \\n \\n')\n",
    "    results(player_hand1, player_score1, bet1, player_busted1)\n",
    "    print('\\n \\n \\n below results are for your second set \\n \\n \\n')\n",
    "    results(player_hand2, player_score2, bet2, player_busted2)\n",
    "else:\n",
    "    results(player_hand, player_score, bet, player_busted)"
   ]
  },
  {
   "cell_type": "code",
   "execution_count": null,
   "id": "6acddff0",
   "metadata": {},
   "outputs": [],
   "source": []
  },
  {
   "cell_type": "code",
   "execution_count": null,
   "id": "46a2aa80",
   "metadata": {},
   "outputs": [],
   "source": []
  },
  {
   "cell_type": "code",
   "execution_count": null,
   "id": "baca8cf6",
   "metadata": {},
   "outputs": [],
   "source": []
  },
  {
   "cell_type": "code",
   "execution_count": null,
   "id": "6095ebe9",
   "metadata": {},
   "outputs": [],
   "source": []
  },
  {
   "cell_type": "code",
   "execution_count": null,
   "id": "3e7acd57",
   "metadata": {},
   "outputs": [],
   "source": []
  },
  {
   "cell_type": "code",
   "execution_count": null,
   "id": "f8f46a00",
   "metadata": {},
   "outputs": [],
   "source": []
  }
 ],
 "metadata": {
  "kernelspec": {
   "display_name": "Python 3 (ipykernel)",
   "language": "python",
   "name": "python3"
  },
  "language_info": {
   "codemirror_mode": {
    "name": "ipython",
    "version": 3
   },
   "file_extension": ".py",
   "mimetype": "text/x-python",
   "name": "python",
   "nbconvert_exporter": "python",
   "pygments_lexer": "ipython3",
   "version": "3.9.12"
  }
 },
 "nbformat": 4,
 "nbformat_minor": 5
}
